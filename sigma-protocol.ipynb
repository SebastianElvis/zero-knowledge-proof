{
 "cells": [
  {
   "cell_type": "code",
   "execution_count": 1,
   "metadata": {},
   "outputs": [],
   "source": [
    "# http://soc1024.ece.illinois.edu/teaching/ece598am/fall2016/zkproofs.pdf"
   ]
  },
  {
   "cell_type": "code",
   "execution_count": 2,
   "metadata": {},
   "outputs": [],
   "source": [
    "import random"
   ]
  },
  {
   "cell_type": "code",
   "execution_count": 3,
   "metadata": {},
   "outputs": [
    {
     "name": "stdout",
     "output_type": "stream",
     "text": [
      "True\n"
     ]
    }
   ],
   "source": [
    "def powmod(g, exp, p):\n",
    "    res = 1\n",
    "    for i in range(exp):\n",
    "        res = (res * g) % p\n",
    "    return res\n",
    "\n",
    "print powmod(2, 10, 17) == (2**10)%17"
   ]
  },
  {
   "cell_type": "code",
   "execution_count": 4,
   "metadata": {},
   "outputs": [
    {
     "name": "stdout",
     "output_type": "stream",
     "text": [
      "[1, 2, 3, 4, 5, 6, 7, 8, 9, 10, 11, 12, 13, 14, 15, 16, 17, 18, 19, 20, 21, 22, 23, 24, 25, 26, 27, 28, 29, 30, 31, 32, 33, 34, 35, 36, 37, 38, 39, 40, 41, 42, 43, 44, 45, 46, 47, 48, 49, 50, 51, 52]\n"
     ]
    }
   ],
   "source": [
    "# define a cyclic group\n",
    "# Z: The cyclic group\n",
    "# g: The generator\n",
    "# p: The prime order\n",
    "\n",
    "Z = range(1, 53) # Z11 -> 1 to 10\n",
    "p = 53\n",
    "g = 2\n",
    "\n",
    "# Prove it's a cyclic group\n",
    "elements = []\n",
    "for i in Z:\n",
    "    elements.append(powmod(g, i, p))\n",
    "\n",
    "elements.sort()\n",
    "print elements # has the same elements of Z"
   ]
  },
  {
   "cell_type": "markdown",
   "metadata": {},
   "source": [
    "# The Sigma Protocol\n",
    "\n",
    "Based on the knowledge of discrete log problem"
   ]
  },
  {
   "cell_type": "code",
   "execution_count": 5,
   "metadata": {},
   "outputs": [
    {
     "name": "stdout",
     "output_type": "stream",
     "text": [
      "7 22\n"
     ]
    }
   ],
   "source": [
    "# Generate the witness a and the statement A\n",
    "# A = g^a on Z\n",
    "def generate_witness_statement():\n",
    "    a = random.randint(1, 11)\n",
    "    A = powmod(g, a, p)\n",
    "    return a, A\n",
    "\n",
    "a, A = generate_witness_statement()\n",
    "print a, A"
   ]
  },
  {
   "cell_type": "code",
   "execution_count": 6,
   "metadata": {},
   "outputs": [
    {
     "name": "stdout",
     "output_type": "stream",
     "text": [
      "8 44\n"
     ]
    }
   ],
   "source": [
    "# Prover commitment\n",
    "# k = Z[rand]\n",
    "# K = g^k on Z\n",
    "def commit():\n",
    "    k = random.randint(1, 11)\n",
    "    K = powmod(g, k, p)\n",
    "    return k, K\n",
    "\n",
    "k, K = commit()\n",
    "print k, K"
   ]
  },
  {
   "cell_type": "code",
   "execution_count": 7,
   "metadata": {},
   "outputs": [
    {
     "name": "stdout",
     "output_type": "stream",
     "text": [
      "5\n"
     ]
    }
   ],
   "source": [
    "# Verifier challenge\n",
    "# c = Z[rand]\n",
    "def challenge():\n",
    "    c = random.randint(1, 11)\n",
    "    return c\n",
    "\n",
    "c = challenge()\n",
    "print c"
   ]
  },
  {
   "cell_type": "code",
   "execution_count": 8,
   "metadata": {},
   "outputs": [
    {
     "name": "stdout",
     "output_type": "stream",
     "text": [
      "43\n"
     ]
    }
   ],
   "source": [
    "# Prover response\n",
    "# s = k + ca on Z\n",
    "\n",
    "def response(k, c, a):\n",
    "    s = k + c*a\n",
    "    return s\n",
    "\n",
    "s = response(k, c, a)\n",
    "print s"
   ]
  },
  {
   "cell_type": "code",
   "execution_count": 9,
   "metadata": {},
   "outputs": [
    {
     "name": "stdout",
     "output_type": "stream",
     "text": [
      "True\n"
     ]
    }
   ],
   "source": [
    "# Verifier verify\n",
    "# g^s = K(A^c) on Z?\n",
    "\n",
    "def verify(s, K, A, c):\n",
    "    return powmod(g, s, p) == ( (K%p)*powmod(A, c, p) ) % p\n",
    "\n",
    "res = verify(s, K, A, c)\n",
    "print res"
   ]
  },
  {
   "cell_type": "markdown",
   "metadata": {},
   "source": [
    "# Making the Sigma Protocol Non-Interactive\n",
    "\n",
    "By Fiat-Shamir Transformation\n",
    "\n",
    "Replacing the challenge c (randomly selected) by H(K)"
   ]
  },
  {
   "cell_type": "code",
   "execution_count": 10,
   "metadata": {},
   "outputs": [
    {
     "name": "stdout",
     "output_type": "stream",
     "text": [
      "17\n"
     ]
    }
   ],
   "source": [
    "a, A = generate_witness_statement()\n",
    "k, K = commit()\n",
    "\n",
    "def proof1(a, A, k, K):\n",
    "    c = hash(K)\n",
    "    s = k + c*a\n",
    "    return s\n",
    "\n",
    "\n",
    "s = proof1(a, A, k, K)\n",
    "print s"
   ]
  },
  {
   "cell_type": "code",
   "execution_count": 11,
   "metadata": {},
   "outputs": [
    {
     "name": "stdout",
     "output_type": "stream",
     "text": [
      "True\n"
     ]
    }
   ],
   "source": [
    "def verify1(K, s):\n",
    "    return powmod(g, s, p) == ( (K%p) * powmod(A, hash(K), p) ) % p\n",
    "\n",
    "print verify1(K, s)"
   ]
  },
  {
   "cell_type": "code",
   "execution_count": null,
   "metadata": {},
   "outputs": [],
   "source": []
  }
 ],
 "metadata": {
  "kernelspec": {
   "display_name": "Python 2",
   "language": "python",
   "name": "python2"
  },
  "language_info": {
   "codemirror_mode": {
    "name": "ipython",
    "version": 2
   },
   "file_extension": ".py",
   "mimetype": "text/x-python",
   "name": "python",
   "nbconvert_exporter": "python",
   "pygments_lexer": "ipython2",
   "version": "2.7.15rc1"
  }
 },
 "nbformat": 4,
 "nbformat_minor": 2
}
